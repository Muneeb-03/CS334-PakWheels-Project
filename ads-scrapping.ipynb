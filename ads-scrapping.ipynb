{
 "cells": [
  {
   "cell_type": "markdown",
   "metadata": {},
   "source": [
    "# Scraping Ads from PakWheels\n",
    "\n",
    "In this notebook we scrape ads (cars listings) from the PakWheels website using Python libraries such as `requests` and `BeautifulSoup`."
   ]
  },
  {
   "cell_type": "markdown",
   "metadata": {},
   "source": [
    "**Imports**"
   ]
  },
  {
   "cell_type": "code",
   "execution_count": 2,
   "metadata": {
    "id": "avKw9FgJtbpV"
   },
   "outputs": [],
   "source": [
    "from bs4 import BeautifulSoup\n",
    "import requests\n",
    "import numpy as np\n",
    "import pandas as pd\n",
    "import re\n",
    "from concurrent.futures import ThreadPoolExecutor, as_completed\n",
    "import os\n",
    "from json import loads, dumps\n",
    "from tqdm import tqdm"
   ]
  },
  {
   "cell_type": "markdown",
   "metadata": {},
   "source": [
    "## Scraping User Reviews\n",
    "\n",
    "A function to scrape all listings for a car of specific body type."
   ]
  },
  {
   "cell_type": "code",
   "execution_count": 2,
   "metadata": {
    "id": "POY1hrlegiVy"
   },
   "outputs": [],
   "source": [
    "def scrape_ad(url, b_type):\n",
    "    try:\n",
    "        response = requests.get(url)\n",
    "        soup = BeautifulSoup(response.content, 'lxml')\n",
    "\n",
    "        featured = 1 if soup.find('div', class_='mb40 pos-rel').find('div', class_='featured-ribbon pointer') else 0\n",
    "        car_name = soup.find('h1').text\n",
    "        location = soup.find('p', class_='detail-sub-heading').find('a').text.strip()\n",
    "        car_specifics = soup.find('table', class_=re.compile(r'table table-bordered text-center table-engine-detail fs16')).find_all('td')\n",
    "        model = car_specifics[0].text.strip()\n",
    "        mileage = car_specifics[1].text.strip()\n",
    "        engine_type = car_specifics[2].text.strip()\n",
    "        transmission = car_specifics[3].text.strip()\n",
    "        try:\n",
    "            car_features = soup.find('ul', class_=re.compile(r'list-unstyled car-feature-list nomargin')).find_all('li')\n",
    "            features = [feature.text.strip() for feature in car_features]\n",
    "        except:\n",
    "            features = []\n",
    "        sellers_comments = soup.find('h2', id='scroll_seller_comments').find_next_sibling('div').text.strip()\n",
    "        car_details = soup.find('ul', id='scroll_car_detail').find_all('li')\n",
    "        details = {car_details[idx].text.strip(): car_details[idx + 1].text.strip() for idx in range(0, len(car_details), 2)}\n",
    "        ad_no = details['Ad Ref #']\n",
    "        del details['Ad Ref #']\n",
    "        price = soup.find('div', class_='price-box').text.strip()\n",
    "        seller_details = soup.find('div', class_='owner-detail-main').text.strip().split('\\n\\n')[0]\n",
    "\n",
    "        return {\n",
    "            'Ad Ref': ad_no,\n",
    "            'url': url,\n",
    "            'Featured': featured,\n",
    "            'Vehicle': car_name,\n",
    "            'Location': location,\n",
    "            'Model': model,\n",
    "            'Vehicle Type': b_type,\n",
    "            'Mileage': mileage,\n",
    "            'Engine Type': engine_type,\n",
    "            'Transmission': transmission,\n",
    "            'Features': features,\n",
    "            'Details': details,\n",
    "            'Price': price,\n",
    "            'Seller Details': seller_details,\n",
    "            \"Seller's Comments\": sellers_comments,\n",
    "        }\n",
    "    except:\n",
    "        return {\n",
    "            'url': url\n",
    "        }"
   ]
  },
  {
   "cell_type": "markdown",
   "metadata": {},
   "source": [
    "## Scraping Ads in Parallel\n",
    "\n",
    "This function takes a list of URLs and a type of advertisement, and it scrapes the data concurrently. "
   ]
  },
  {
   "cell_type": "code",
   "execution_count": 18,
   "metadata": {
    "id": "3GG2syY_sGHC"
   },
   "outputs": [],
   "source": [
    "def scrape_ads_in_parallel(urls, b_type):\n",
    "    results = []  # Use a list to hold only valid results\n",
    "    with ThreadPoolExecutor(max_workers=10) as executor:\n",
    "        future_to_index = {executor.submit(scrape_ad, url, b_type): index for index, url in enumerate(urls)}\n",
    "\n",
    "        # Initialize tqdm progress bar\n",
    "        with tqdm(total=len(urls), desc=f\"Scraping {b_type}\", unit=\"ad\") as pbar:\n",
    "            for future in as_completed(future_to_index):\n",
    "                index = future_to_index[future]\n",
    "                result = future.result()\n",
    "                if result is not None:  # Only append valid results\n",
    "                    results.append(result)\n",
    "                pbar.update(1)  # Update progress bar\n",
    "\n",
    "    return results"
   ]
  },
  {
   "cell_type": "code",
   "execution_count": 5,
   "metadata": {
    "colab": {
     "base_uri": "https://localhost:8080/"
    },
    "id": "wnPio7vvqi9f",
    "outputId": "5f42aec2-06f4-4769-cf29-2e93e3c3c85a"
   },
   "outputs": [
    {
     "name": "stderr",
     "output_type": "stream",
     "text": [
      "Scraping Hatchback: 100%|██████████| 10/10 [00:02<00:00,  3.64ad/s]\n"
     ]
    }
   ],
   "source": [
    "for body_type in os.listdir('data'):\n",
    "    if 'urls.txt' in os.listdir(os.path.join('data', body_type)) and 'data.json' not in os.listdir(os.path.join('data', body_type)) and body_type in ['Hatchback']:\n",
    "        with open(os.path.join('data', body_type, 'urls.txt'), 'r') as f:\n",
    "            urls = f.read().strip().split('\\n')\n",
    "        results = scrape_ads_in_parallel(urls[:10], body_type)\n",
    "        with open(os.path.join('data', body_type, 'data.json'), 'w') as f:\n",
    "            f.write(dumps(results))\n"
   ]
  },
  {
   "cell_type": "markdown",
   "metadata": {},
   "source": [
    "**A sample from cars listing data**"
   ]
  },
  {
   "cell_type": "code",
   "execution_count": 5,
   "metadata": {},
   "outputs": [
    {
     "data": {
      "text/html": [
       "<div>\n",
       "<style scoped>\n",
       "    .dataframe tbody tr th:only-of-type {\n",
       "        vertical-align: middle;\n",
       "    }\n",
       "\n",
       "    .dataframe tbody tr th {\n",
       "        vertical-align: top;\n",
       "    }\n",
       "\n",
       "    .dataframe thead th {\n",
       "        text-align: right;\n",
       "    }\n",
       "</style>\n",
       "<table border=\"1\" class=\"dataframe\">\n",
       "  <thead>\n",
       "    <tr style=\"text-align: right;\">\n",
       "      <th></th>\n",
       "      <th>Ad Ref</th>\n",
       "      <th>url</th>\n",
       "      <th>Featured</th>\n",
       "      <th>Vehicle</th>\n",
       "      <th>Location</th>\n",
       "      <th>Model</th>\n",
       "      <th>Vehicle Type</th>\n",
       "      <th>Mileage</th>\n",
       "      <th>Engine Type</th>\n",
       "      <th>Transmission</th>\n",
       "      <th>Features</th>\n",
       "      <th>Details</th>\n",
       "      <th>Price</th>\n",
       "      <th>Seller Details</th>\n",
       "      <th>Seller's Comments</th>\n",
       "    </tr>\n",
       "  </thead>\n",
       "  <tbody>\n",
       "    <tr>\n",
       "      <th>24086</th>\n",
       "      <td>9329974</td>\n",
       "      <td>https://www.pakwheels.com/used-cars/toyota-cor...</td>\n",
       "      <td>0</td>\n",
       "      <td>Toyota Corolla XLi VVTi 2014</td>\n",
       "      <td>Nazimabad, Karachi Sindh</td>\n",
       "      <td>2014</td>\n",
       "      <td>Sedan</td>\n",
       "      <td>113,000 km</td>\n",
       "      <td>Petrol</td>\n",
       "      <td>Manual</td>\n",
       "      <td>['Air Conditioning', 'CD Player', 'Power Mirro...</td>\n",
       "      <td>{'Registered In': 'Karachi', 'Color': 'White',...</td>\n",
       "      <td>PKR 22.9 lacs</td>\n",
       "      <td>Shani\\nMember Since Oct 18, 2024</td>\n",
       "      <td>corrola XLI convert GLIoutr 70% original  inne...</td>\n",
       "    </tr>\n",
       "    <tr>\n",
       "      <th>33018</th>\n",
       "      <td>9261499</td>\n",
       "      <td>https://www.pakwheels.com/used-cars/honda-city...</td>\n",
       "      <td>0</td>\n",
       "      <td>Honda City 1.3 i-VTEC Prosmatec 2021</td>\n",
       "      <td>DHA Phase 5, Lahore Punjab</td>\n",
       "      <td>2021</td>\n",
       "      <td>Sedan</td>\n",
       "      <td>41,000 km</td>\n",
       "      <td>Petrol</td>\n",
       "      <td>Automatic</td>\n",
       "      <td>['ABS', 'AM/FM Radio', 'Air Conditioning', 'CD...</td>\n",
       "      <td>{'Registered In': 'Lahore', 'Color': 'Maroon',...</td>\n",
       "      <td>PKR 41 lacs\\n\\nFinancing starts at PKR 102,666...</td>\n",
       "      <td>Salman\\nMember Since Jan 03, 2019</td>\n",
       "      <td>Honda City 1.3 prosmatec. Only front bumper pa...</td>\n",
       "    </tr>\n",
       "    <tr>\n",
       "      <th>17946</th>\n",
       "      <td>9330761</td>\n",
       "      <td>https://www.pakwheels.com/used-cars/toyota-aqu...</td>\n",
       "      <td>1</td>\n",
       "      <td>Toyota Aqua G 2021</td>\n",
       "      <td>Karachi Sindh</td>\n",
       "      <td>2021</td>\n",
       "      <td>Hatchback</td>\n",
       "      <td>25,000 km</td>\n",
       "      <td>Hybrid</td>\n",
       "      <td>Automatic</td>\n",
       "      <td>['ABS', 'AM/FM Radio', 'Air Bags', 'Air Condit...</td>\n",
       "      <td>{'Registered In': 'Un-Registered', 'Color': 'B...</td>\n",
       "      <td>PKR 83 lacs</td>\n",
       "      <td>Dealer:\\nGAZIANI AUTOMOBILES</td>\n",
       "      <td>Toyota AquaG packageNEW SHAPEModel: 2021Fresh ...</td>\n",
       "    </tr>\n",
       "    <tr>\n",
       "      <th>35940</th>\n",
       "      <td>9042959</td>\n",
       "      <td>https://www.pakwheels.com/used-cars/honda-city...</td>\n",
       "      <td>0</td>\n",
       "      <td>Honda City EXi 2001</td>\n",
       "      <td>Peoples Colony, Gujranwala Punjab</td>\n",
       "      <td>2001</td>\n",
       "      <td>Sedan</td>\n",
       "      <td>230,000 km</td>\n",
       "      <td>Petrol</td>\n",
       "      <td>Manual</td>\n",
       "      <td>['AM/FM Radio', 'Air Conditioning', 'Cassette ...</td>\n",
       "      <td>{'Registered In': 'Gujranwala', 'Color': 'Whit...</td>\n",
       "      <td>PKR 10.3 lacs</td>\n",
       "      <td>Umer Akbar\\nMember Since Oct 07, 2023</td>\n",
       "      <td>Urgent sale\\n    Mention PakWheels.com when ca...</td>\n",
       "    </tr>\n",
       "    <tr>\n",
       "      <th>32499</th>\n",
       "      <td>9282253</td>\n",
       "      <td>https://www.pakwheels.com/used-cars/toyota-pra...</td>\n",
       "      <td>0</td>\n",
       "      <td>Toyota Prado TX Limited 2.7 2020</td>\n",
       "      <td>Hayatabad, Peshawar KPK</td>\n",
       "      <td>2020</td>\n",
       "      <td>SUV</td>\n",
       "      <td>25,438 km</td>\n",
       "      <td>Petrol</td>\n",
       "      <td>Automatic</td>\n",
       "      <td>['ABS', 'AM/FM Radio', 'Air Bags', 'Air Condit...</td>\n",
       "      <td>{'Registered In': 'Un-Registered', 'Color': 'B...</td>\n",
       "      <td>PKR 2.75 crore</td>\n",
       "      <td>Jan Malang\\nMember Since Oct 06, 2024</td>\n",
       "      <td>Urgent Sell Toyota Prado TX Limited Edition 2....</td>\n",
       "    </tr>\n",
       "  </tbody>\n",
       "</table>\n",
       "</div>"
      ],
      "text/plain": [
       "        Ad Ref                                                url  Featured   \n",
       "24086  9329974  https://www.pakwheels.com/used-cars/toyota-cor...         0  \\\n",
       "33018  9261499  https://www.pakwheels.com/used-cars/honda-city...         0   \n",
       "17946  9330761  https://www.pakwheels.com/used-cars/toyota-aqu...         1   \n",
       "35940  9042959  https://www.pakwheels.com/used-cars/honda-city...         0   \n",
       "32499  9282253  https://www.pakwheels.com/used-cars/toyota-pra...         0   \n",
       "\n",
       "                                    Vehicle   \n",
       "24086          Toyota Corolla XLi VVTi 2014  \\\n",
       "33018  Honda City 1.3 i-VTEC Prosmatec 2021   \n",
       "17946                    Toyota Aqua G 2021   \n",
       "35940                   Honda City EXi 2001   \n",
       "32499      Toyota Prado TX Limited 2.7 2020   \n",
       "\n",
       "                                Location  Model Vehicle Type     Mileage   \n",
       "24086           Nazimabad, Karachi Sindh   2014        Sedan  113,000 km  \\\n",
       "33018         DHA Phase 5, Lahore Punjab   2021        Sedan   41,000 km   \n",
       "17946                      Karachi Sindh   2021    Hatchback   25,000 km   \n",
       "35940  Peoples Colony, Gujranwala Punjab   2001        Sedan  230,000 km   \n",
       "32499            Hayatabad, Peshawar KPK   2020          SUV   25,438 km   \n",
       "\n",
       "      Engine Type Transmission   \n",
       "24086      Petrol       Manual  \\\n",
       "33018      Petrol    Automatic   \n",
       "17946      Hybrid    Automatic   \n",
       "35940      Petrol       Manual   \n",
       "32499      Petrol    Automatic   \n",
       "\n",
       "                                                Features   \n",
       "24086  ['Air Conditioning', 'CD Player', 'Power Mirro...  \\\n",
       "33018  ['ABS', 'AM/FM Radio', 'Air Conditioning', 'CD...   \n",
       "17946  ['ABS', 'AM/FM Radio', 'Air Bags', 'Air Condit...   \n",
       "35940  ['AM/FM Radio', 'Air Conditioning', 'Cassette ...   \n",
       "32499  ['ABS', 'AM/FM Radio', 'Air Bags', 'Air Condit...   \n",
       "\n",
       "                                                 Details   \n",
       "24086  {'Registered In': 'Karachi', 'Color': 'White',...  \\\n",
       "33018  {'Registered In': 'Lahore', 'Color': 'Maroon',...   \n",
       "17946  {'Registered In': 'Un-Registered', 'Color': 'B...   \n",
       "35940  {'Registered In': 'Gujranwala', 'Color': 'Whit...   \n",
       "32499  {'Registered In': 'Un-Registered', 'Color': 'B...   \n",
       "\n",
       "                                                   Price   \n",
       "24086                                      PKR 22.9 lacs  \\\n",
       "33018  PKR 41 lacs\\n\\nFinancing starts at PKR 102,666...   \n",
       "17946                                        PKR 83 lacs   \n",
       "35940                                      PKR 10.3 lacs   \n",
       "32499                                     PKR 2.75 crore   \n",
       "\n",
       "                              Seller Details   \n",
       "24086       Shani\\nMember Since Oct 18, 2024  \\\n",
       "33018      Salman\\nMember Since Jan 03, 2019   \n",
       "17946           Dealer:\\nGAZIANI AUTOMOBILES   \n",
       "35940  Umer Akbar\\nMember Since Oct 07, 2023   \n",
       "32499  Jan Malang\\nMember Since Oct 06, 2024   \n",
       "\n",
       "                                       Seller's Comments  \n",
       "24086  corrola XLI convert GLIoutr 70% original  inne...  \n",
       "33018  Honda City 1.3 prosmatec. Only front bumper pa...  \n",
       "17946  Toyota AquaG packageNEW SHAPEModel: 2021Fresh ...  \n",
       "35940  Urgent sale\\n    Mention PakWheels.com when ca...  \n",
       "32499  Urgent Sell Toyota Prado TX Limited Edition 2....  "
      ]
     },
     "execution_count": 5,
     "metadata": {},
     "output_type": "execute_result"
    }
   ],
   "source": [
    "df = pd.read_csv('datasets/dataset_1.csv')\n",
    "df.sample(5)"
   ]
  },
  {
   "cell_type": "code",
   "execution_count": 6,
   "metadata": {},
   "outputs": [
    {
     "name": "stdout",
     "output_type": "stream",
     "text": [
      "Number of entries in the dataset: 53784\n"
     ]
    }
   ],
   "source": [
    "print(f'Number of entries in the dataset: {df.shape[0]}')"
   ]
  },
  {
   "cell_type": "code",
   "execution_count": 9,
   "metadata": {},
   "outputs": [
    {
     "data": {
      "text/plain": [
       "Ad Ref                int64\n",
       "url                  object\n",
       "Featured              int64\n",
       "Vehicle              object\n",
       "Location             object\n",
       "Model                 int64\n",
       "Vehicle Type         object\n",
       "Mileage              object\n",
       "Engine Type          object\n",
       "Transmission         object\n",
       "Features             object\n",
       "Details              object\n",
       "Price                object\n",
       "Seller Details       object\n",
       "Seller's Comments    object\n",
       "dtype: object"
      ]
     },
     "execution_count": 9,
     "metadata": {},
     "output_type": "execute_result"
    }
   ],
   "source": [
    "df.dtypes"
   ]
  }
 ],
 "metadata": {
  "colab": {
   "provenance": []
  },
  "kernelspec": {
   "display_name": "Python 3",
   "language": "python",
   "name": "python3"
  },
  "language_info": {
   "codemirror_mode": {
    "name": "ipython",
    "version": 3
   },
   "file_extension": ".py",
   "mimetype": "text/x-python",
   "name": "python",
   "nbconvert_exporter": "python",
   "pygments_lexer": "ipython3",
   "version": "3.10.5"
  }
 },
 "nbformat": 4,
 "nbformat_minor": 4
}
