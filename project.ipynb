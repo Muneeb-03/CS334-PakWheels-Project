{
 "cells": [
  {
   "cell_type": "markdown",
   "metadata": {},
   "source": [
    "### Importing Libraries"
   ]
  },
  {
   "cell_type": "code",
   "execution_count": 142,
   "metadata": {},
   "outputs": [],
   "source": [
    "import pandas as pd\n",
    "import numpy as np\n",
    "import os\n",
    "import matplotlib.pyplot as plt\n",
    "import seaborn as sns\n",
    "import re\n",
    "import json"
   ]
  },
  {
   "cell_type": "markdown",
   "metadata": {},
   "source": [
    "## Dataset Overview"
   ]
  },
  {
   "cell_type": "markdown",
   "metadata": {},
   "source": [
    "### Ads Dataset"
   ]
  },
  {
   "cell_type": "markdown",
   "metadata": {},
   "source": [
    "#### Loading the Dataset"
   ]
  },
  {
   "cell_type": "code",
   "execution_count": 143,
   "metadata": {},
   "outputs": [
    {
     "data": {
      "text/html": [
       "<div>\n",
       "<style scoped>\n",
       "    .dataframe tbody tr th:only-of-type {\n",
       "        vertical-align: middle;\n",
       "    }\n",
       "\n",
       "    .dataframe tbody tr th {\n",
       "        vertical-align: top;\n",
       "    }\n",
       "\n",
       "    .dataframe thead th {\n",
       "        text-align: right;\n",
       "    }\n",
       "</style>\n",
       "<table border=\"1\" class=\"dataframe\">\n",
       "  <thead>\n",
       "    <tr style=\"text-align: right;\">\n",
       "      <th></th>\n",
       "      <th>url</th>\n",
       "      <th>Featured</th>\n",
       "      <th>Vehicle</th>\n",
       "      <th>Location</th>\n",
       "      <th>Model</th>\n",
       "      <th>Vehicle Type</th>\n",
       "      <th>Mileage</th>\n",
       "      <th>Engine Type</th>\n",
       "      <th>Transmission</th>\n",
       "      <th>Features</th>\n",
       "      <th>Details</th>\n",
       "      <th>Price</th>\n",
       "      <th>Seller Details</th>\n",
       "      <th>Seller's Comments</th>\n",
       "    </tr>\n",
       "    <tr>\n",
       "      <th>Ad Ref</th>\n",
       "      <th></th>\n",
       "      <th></th>\n",
       "      <th></th>\n",
       "      <th></th>\n",
       "      <th></th>\n",
       "      <th></th>\n",
       "      <th></th>\n",
       "      <th></th>\n",
       "      <th></th>\n",
       "      <th></th>\n",
       "      <th></th>\n",
       "      <th></th>\n",
       "      <th></th>\n",
       "      <th></th>\n",
       "    </tr>\n",
       "  </thead>\n",
       "  <tbody>\n",
       "    <tr>\n",
       "      <th>9307635</th>\n",
       "      <td>https://www.pakwheels.com/used-cars/mg-hs-2021...</td>\n",
       "      <td>1</td>\n",
       "      <td>MG HS Trophy 2021</td>\n",
       "      <td>Bahria Town, Lahore Punjab</td>\n",
       "      <td>2021</td>\n",
       "      <td>Crossover</td>\n",
       "      <td>31,500 km</td>\n",
       "      <td>Petrol</td>\n",
       "      <td>Automatic</td>\n",
       "      <td>['ABS', 'AM/FM Radio', 'Air Bags', 'Air Condit...</td>\n",
       "      <td>{'Registered In': 'Punjab', 'Color': 'Pearl Wh...</td>\n",
       "      <td>PKR 66.5 lacs</td>\n",
       "      <td>Syed Naqvi \\nMember Since Oct 22, 2020</td>\n",
       "      <td>MG Hs 2021 model registered in 2022 Imported U...</td>\n",
       "    </tr>\n",
       "    <tr>\n",
       "      <th>9233999</th>\n",
       "      <td>https://www.pakwheels.com/used-cars/bmw-x1-201...</td>\n",
       "      <td>0</td>\n",
       "      <td>BMW X1 sDrive18i 2017</td>\n",
       "      <td>Central Park Housing Scheme, Lahore Punjab</td>\n",
       "      <td>2017</td>\n",
       "      <td>Crossover</td>\n",
       "      <td>70,000 km</td>\n",
       "      <td>Petrol</td>\n",
       "      <td>Automatic</td>\n",
       "      <td>['ABS', 'AM/FM Radio', 'Air Bags', 'Air Condit...</td>\n",
       "      <td>{'Registered In': 'Islamabad', 'Color': 'Alpin...</td>\n",
       "      <td>PKR 68 lacs\\n\\nFinancing starts at PKR 98,662/...</td>\n",
       "      <td>M Adeel Jutt\\nMember Since Apr 05, 2021</td>\n",
       "      <td>totally genuine low mileage all original docum...</td>\n",
       "    </tr>\n",
       "    <tr>\n",
       "      <th>9259914</th>\n",
       "      <td>https://www.pakwheels.com/used-cars/toyota-lan...</td>\n",
       "      <td>1</td>\n",
       "      <td>Toyota Land Cruiser ZX 2022</td>\n",
       "      <td>Islamabad Islamabad</td>\n",
       "      <td>2022</td>\n",
       "      <td>SUV</td>\n",
       "      <td>30 km</td>\n",
       "      <td>Petrol</td>\n",
       "      <td>Automatic</td>\n",
       "      <td>['ABS', 'AM/FM Radio', 'Air Bags', 'Air Condit...</td>\n",
       "      <td>{'Registered In': 'Un-Registered', 'Color': 'W...</td>\n",
       "      <td>PKR 7.35 crore</td>\n",
       "      <td>Dealer:\\nAamir Shah</td>\n",
       "      <td>LC 300 , Toyota Land Cruiser.   Full house zer...</td>\n",
       "    </tr>\n",
       "  </tbody>\n",
       "</table>\n",
       "</div>"
      ],
      "text/plain": [
       "                                                       url  Featured  \\\n",
       "Ad Ref                                                                 \n",
       "9307635  https://www.pakwheels.com/used-cars/mg-hs-2021...         1   \n",
       "9233999  https://www.pakwheels.com/used-cars/bmw-x1-201...         0   \n",
       "9259914  https://www.pakwheels.com/used-cars/toyota-lan...         1   \n",
       "\n",
       "                             Vehicle  \\\n",
       "Ad Ref                                 \n",
       "9307635            MG HS Trophy 2021   \n",
       "9233999        BMW X1 sDrive18i 2017   \n",
       "9259914  Toyota Land Cruiser ZX 2022   \n",
       "\n",
       "                                           Location  Model Vehicle Type  \\\n",
       "Ad Ref                                                                    \n",
       "9307635                  Bahria Town, Lahore Punjab   2021    Crossover   \n",
       "9233999  Central Park Housing Scheme, Lahore Punjab   2017    Crossover   \n",
       "9259914                         Islamabad Islamabad   2022          SUV   \n",
       "\n",
       "           Mileage Engine Type Transmission  \\\n",
       "Ad Ref                                        \n",
       "9307635  31,500 km      Petrol    Automatic   \n",
       "9233999  70,000 km      Petrol    Automatic   \n",
       "9259914      30 km      Petrol    Automatic   \n",
       "\n",
       "                                                  Features  \\\n",
       "Ad Ref                                                       \n",
       "9307635  ['ABS', 'AM/FM Radio', 'Air Bags', 'Air Condit...   \n",
       "9233999  ['ABS', 'AM/FM Radio', 'Air Bags', 'Air Condit...   \n",
       "9259914  ['ABS', 'AM/FM Radio', 'Air Bags', 'Air Condit...   \n",
       "\n",
       "                                                   Details  \\\n",
       "Ad Ref                                                       \n",
       "9307635  {'Registered In': 'Punjab', 'Color': 'Pearl Wh...   \n",
       "9233999  {'Registered In': 'Islamabad', 'Color': 'Alpin...   \n",
       "9259914  {'Registered In': 'Un-Registered', 'Color': 'W...   \n",
       "\n",
       "                                                     Price  \\\n",
       "Ad Ref                                                       \n",
       "9307635                                      PKR 66.5 lacs   \n",
       "9233999  PKR 68 lacs\\n\\nFinancing starts at PKR 98,662/...   \n",
       "9259914                                     PKR 7.35 crore   \n",
       "\n",
       "                                  Seller Details  \\\n",
       "Ad Ref                                             \n",
       "9307635   Syed Naqvi \\nMember Since Oct 22, 2020   \n",
       "9233999  M Adeel Jutt\\nMember Since Apr 05, 2021   \n",
       "9259914                     Dealer:\\nAamir Shah    \n",
       "\n",
       "                                         Seller's Comments  \n",
       "Ad Ref                                                      \n",
       "9307635  MG Hs 2021 model registered in 2022 Imported U...  \n",
       "9233999  totally genuine low mileage all original docum...  \n",
       "9259914  LC 300 , Toyota Land Cruiser.   Full house zer...  "
      ]
     },
     "execution_count": 143,
     "metadata": {},
     "output_type": "execute_result"
    }
   ],
   "source": [
    "ads_df = pd.read_csv(os.path.join('datasets', 'dataset_1.csv'), index_col=0)\n",
    "\n",
    "# Displaying the first few rows to understand the structure of the data\n",
    "ads_df.head(3)"
   ]
  },
  {
   "cell_type": "markdown",
   "metadata": {},
   "source": [
    "#### Display basic information about the dataset"
   ]
  },
  {
   "cell_type": "code",
   "execution_count": 144,
   "metadata": {},
   "outputs": [
    {
     "data": {
      "text/plain": [
       "url                  object\n",
       "Featured              int64\n",
       "Vehicle              object\n",
       "Location             object\n",
       "Model                 int64\n",
       "Vehicle Type         object\n",
       "Mileage              object\n",
       "Engine Type          object\n",
       "Transmission         object\n",
       "Features             object\n",
       "Details              object\n",
       "Price                object\n",
       "Seller Details       object\n",
       "Seller's Comments    object\n",
       "dtype: object"
      ]
     },
     "execution_count": 144,
     "metadata": {},
     "output_type": "execute_result"
    }
   ],
   "source": [
    "ads_df.dtypes"
   ]
  },
  {
   "cell_type": "markdown",
   "metadata": {},
   "source": [
    "#### Check for missing values"
   ]
  },
  {
   "cell_type": "code",
   "execution_count": 145,
   "metadata": {},
   "outputs": [
    {
     "data": {
      "text/plain": [
       "url                  0\n",
       "Featured             0\n",
       "Vehicle              0\n",
       "Location             0\n",
       "Model                0\n",
       "Vehicle Type         0\n",
       "Mileage              0\n",
       "Engine Type          0\n",
       "Transmission         0\n",
       "Features             0\n",
       "Details              0\n",
       "Price                0\n",
       "Seller Details       0\n",
       "Seller's Comments    0\n",
       "dtype: int64"
      ]
     },
     "execution_count": 145,
     "metadata": {},
     "output_type": "execute_result"
    }
   ],
   "source": [
    "ads_df.isnull().sum()"
   ]
  },
  {
   "cell_type": "markdown",
   "metadata": {},
   "source": [
    "#### Summary statistics of numerical columns"
   ]
  },
  {
   "cell_type": "code",
   "execution_count": 146,
   "metadata": {},
   "outputs": [
    {
     "data": {
      "text/html": [
       "<div>\n",
       "<style scoped>\n",
       "    .dataframe tbody tr th:only-of-type {\n",
       "        vertical-align: middle;\n",
       "    }\n",
       "\n",
       "    .dataframe tbody tr th {\n",
       "        vertical-align: top;\n",
       "    }\n",
       "\n",
       "    .dataframe thead th {\n",
       "        text-align: right;\n",
       "    }\n",
       "</style>\n",
       "<table border=\"1\" class=\"dataframe\">\n",
       "  <thead>\n",
       "    <tr style=\"text-align: right;\">\n",
       "      <th></th>\n",
       "      <th>Featured</th>\n",
       "      <th>Model</th>\n",
       "    </tr>\n",
       "  </thead>\n",
       "  <tbody>\n",
       "    <tr>\n",
       "      <th>count</th>\n",
       "      <td>53784.000000</td>\n",
       "      <td>53784.000000</td>\n",
       "    </tr>\n",
       "    <tr>\n",
       "      <th>mean</th>\n",
       "      <td>0.161163</td>\n",
       "      <td>2013.583166</td>\n",
       "    </tr>\n",
       "    <tr>\n",
       "      <th>std</th>\n",
       "      <td>0.367685</td>\n",
       "      <td>7.665484</td>\n",
       "    </tr>\n",
       "    <tr>\n",
       "      <th>min</th>\n",
       "      <td>0.000000</td>\n",
       "      <td>1951.000000</td>\n",
       "    </tr>\n",
       "    <tr>\n",
       "      <th>25%</th>\n",
       "      <td>0.000000</td>\n",
       "      <td>2009.000000</td>\n",
       "    </tr>\n",
       "    <tr>\n",
       "      <th>50%</th>\n",
       "      <td>0.000000</td>\n",
       "      <td>2015.000000</td>\n",
       "    </tr>\n",
       "    <tr>\n",
       "      <th>75%</th>\n",
       "      <td>0.000000</td>\n",
       "      <td>2020.000000</td>\n",
       "    </tr>\n",
       "    <tr>\n",
       "      <th>max</th>\n",
       "      <td>1.000000</td>\n",
       "      <td>2024.000000</td>\n",
       "    </tr>\n",
       "  </tbody>\n",
       "</table>\n",
       "</div>"
      ],
      "text/plain": [
       "           Featured         Model\n",
       "count  53784.000000  53784.000000\n",
       "mean       0.161163   2013.583166\n",
       "std        0.367685      7.665484\n",
       "min        0.000000   1951.000000\n",
       "25%        0.000000   2009.000000\n",
       "50%        0.000000   2015.000000\n",
       "75%        0.000000   2020.000000\n",
       "max        1.000000   2024.000000"
      ]
     },
     "execution_count": 146,
     "metadata": {},
     "output_type": "execute_result"
    }
   ],
   "source": [
    "ads_df.describe()"
   ]
  },
  {
   "cell_type": "markdown",
   "metadata": {},
   "source": [
    "#### Check unique values for each column"
   ]
  },
  {
   "cell_type": "code",
   "execution_count": 147,
   "metadata": {},
   "outputs": [
    {
     "name": "stdout",
     "output_type": "stream",
     "text": [
      "url: 53784 unique values\n",
      "Featured: 2 unique values\n",
      "Vehicle: 6010 unique values\n",
      "Location: 2237 unique values\n",
      "Model: 60 unique values\n",
      "Vehicle Type: 22 unique values\n",
      "Mileage: 7955 unique values\n",
      "Engine Type: 6 unique values\n",
      "Transmission: 2 unique values\n",
      "Features: 4020 unique values\n",
      "Details: 32355 unique values\n",
      "Price: 4487 unique values\n",
      "Seller Details: 44733 unique values\n",
      "Seller's Comments: 51685 unique values\n"
     ]
    }
   ],
   "source": [
    "for column in ads_df.columns:\n",
    "    print(f\"{column}: {ads_df[column].nunique()} unique values\")"
   ]
  },
  {
   "cell_type": "code",
   "execution_count": 148,
   "metadata": {},
   "outputs": [
    {
     "data": {
      "text/plain": [
       "Engine Type\n",
       "Petrol      46804\n",
       "Hybrid       4574\n",
       "Diesel       1577\n",
       "CNG           422\n",
       "Electric      339\n",
       "LPG            68\n",
       "Name: count, dtype: int64"
      ]
     },
     "execution_count": 148,
     "metadata": {},
     "output_type": "execute_result"
    }
   ],
   "source": [
    "ads_df['Engine Type'].value_counts()"
   ]
  },
  {
   "cell_type": "markdown",
   "metadata": {},
   "source": [
    "#### EDA on key columns"
   ]
  },
  {
   "cell_type": "markdown",
   "metadata": {},
   "source": [
    "**a. Vehicle Type Distribution**"
   ]
  },
  {
   "cell_type": "code",
   "execution_count": 149,
   "metadata": {},
   "outputs": [
    {
     "data": {
      "image/png": "[encoded data removed]",
      "text/plain": [
       "<Figure size 640x480 with 1 Axes>"
      ]
     },
     "metadata": {},
     "output_type": "display_data"
    }
   ],
   "source": [
    "sns.countplot(y=ads_df['Vehicle Type'])\n",
    "plt.title('Vehicle Type Distribution')\n",
    "plt.show()"
   ]
  },
  {
   "cell_type": "markdown",
   "metadata": {},
   "source": [
    "**b. Transmission Distribution**"
   ]
  },
  {
   "cell_type": "code",
   "execution_count": 150,
   "metadata": {},
   "outputs": [
    {
     "data": {
      "image/png": "[encoded data removed]",
      "text/plain": [
       "<Figure size 640x480 with 1 Axes>"
      ]
     },
     "metadata": {},
     "output_type": "display_data"
    }
   ],
   "source": [
    "sns.countplot(x=ads_df['Transmission'])\n",
    "plt.title('Transmission Distribution')\n",
    "plt.show()"
   ]
  },
  {
   "cell_type": "markdown",
   "metadata": {},
   "source": [
    "**c. Engine Type Distribution**"
   ]
  },
  {
   "cell_type": "code",
   "execution_count": 151,
   "metadata": {},
   "outputs": [
    {
     "data": {
      "image/png": "[encoded data removed]",
      "text/plain": [
       "<Figure size 640x480 with 1 Axes>"
      ]
     },
     "metadata": {},
     "output_type": "display_data"
    }
   ],
   "source": [
    "sns.countplot(x=ads_df['Engine Type'])\n",
    "plt.title('Engine Type Distribution')\n",
    "plt.show()"
   ]
  },
  {
   "cell_type": "code",
   "execution_count": 152,
   "metadata": {},
   "outputs": [],
   "source": [
    "# ads_data.shape"
   ]
  },
  {
   "cell_type": "code",
   "execution_count": 155,
   "metadata": {},
   "outputs": [
    {
     "data": {
      "text/plain": [
       "601"
      ]
     },
     "execution_count": 155,
     "metadata": {},
     "output_type": "execute_result"
    }
   ],
   "source": [
    "def extract_brand(name):\n",
    "    match = re.match(r'^\\w+', name)\n",
    "    return match.group(0)\n",
    "\n",
    "with open('json/make_model_list.json', 'r') as file:\n",
    "    make_model_list = json.load(file)\n",
    "\n",
    "def extract_model(vehicle_name, brand):\n",
    "    models = next((item['models'] for item in make_model_list if item['make'].lower() == brand.lower()), [])\n",
    "    for model in models:\n",
    "        if re.search(r'\\b' + re.escape(model) + r'\\b', vehicle_name, re.IGNORECASE):\n",
    "            return model\n",
    "    return None\n",
    "\n",
    "def membership_status(details):\n",
    "    if \"Member Since\" in details:\n",
    "        return 1\n",
    "    else:\n",
    "        return 0\n",
    "    \n",
    "ads_df['Model'].rename('Year', inplace=True)\n",
    "\n",
    "ads_df['Brand'] = ads_df['Vehicle'].apply(extract_brand)\n",
    "ads_df['ModelName'] = ads_df.apply(lambda x: extract_model(x['Vehicle'], x['Brand']), axis=1)\n",
    "ads_df['Membership Status'] = ads_df['Seller Details'].apply(membership_status)\n",
    "\n",
    "ads_df['Vehicle Type'] = ads_df['Vehicle Type'].replace({'Micro Van': 'Van/Mini Van', 'Mini Van': 'Van/Mini Van', 'Van': 'Van/Mini Van', 'Compact sedan': 'Sedan', 'Compact SUV': 'SUV', 'Compact hatchback': 'Wagon/Hatchback', 'Station Wagon': 'Wagon/Hatchback', 'Subcompact hatchback': 'Wagon/Hatchback', 'Subcompact hatchback': 'Wagon/Hatchback', 'Single Cabin': 'Truck', 'Double Cabin': 'Truck', 'Coupe': 'Coupe/Convertible', 'Convertible': 'Coupe/Convertible', 'Off-Road Vehicles': 'SUV'})\n",
    "\n",
    "\n",
    "ads_df['ModelName'].isnull().sum()"
   ]
  }
 ],
 "metadata": {
  "kernelspec": {
   "display_name": "Python 3",
   "language": "python",
   "name": "python3"
  },
  "language_info": {
   "codemirror_mode": {
    "name": "ipython",
    "version": 3
   },
   "file_extension": ".py",
   "mimetype": "text/x-python",
   "name": "python",
   "nbconvert_exporter": "python",
   "pygments_lexer": "ipython3",
   "version": "3.10.5"
  }
 },
 "nbformat": 4,
 "nbformat_minor": 2
}
