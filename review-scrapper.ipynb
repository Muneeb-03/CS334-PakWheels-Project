{
  "cells": [
    {
      "cell_type": "markdown",
      "metadata": {},
      "source": [
        "# Scraping User Reviews from PakWheels\n",
        "\n",
        "In this notebook we scrape user reviews from the PakWheels website using Python libraries such as `requests` and `BeautifulSoup`."
      ]
    },
    {
      "cell_type": "markdown",
      "metadata": {},
      "source": [
        "**Imports**"
      ]
    },
    {
      "cell_type": "code",
      "execution_count": 4,
      "metadata": {
        "id": "PabHK6w6oeXi"
      },
      "outputs": [],
      "source": [
        "from bs4 import BeautifulSoup\n",
        "import requests\n",
        "import numpy as np\n",
        "import pandas as pd\n",
        "import re\n",
        "import os\n",
        "from json import loads, dumps\n",
        "from tqdm import tqdm\n",
        "from time import sleep"
      ]
    },
    {
      "cell_type": "markdown",
      "metadata": {},
      "source": [
        "## Scraping User Reviews\n",
        "\n",
        "A function to scrape user reviews for a car filtered by make and model."
      ]
    },
    {
      "cell_type": "code",
      "execution_count": 34,
      "metadata": {
        "id": "W2XJeTCSoeXm"
      },
      "outputs": [],
      "source": [
        "def get_car_reviews(make, model, start=1):\n",
        "    all_reviews = []\n",
        "    while True:\n",
        "        url = f'https://www.pakwheels.com/new-cars/{make}/{model}/reviews/?page={start}'\n",
        "        response = requests.get(url)\n",
        "        if response.url != url:\n",
        "            break\n",
        "        soup = BeautifulSoup(response.content, 'lxml')\n",
        "        for div in soup.find('div', class_='well mb20').find_all('div', class_='mb40'):\n",
        "            review_tagline = div.find('div', class_='col-md-9').find('h3').text.strip()\n",
        "            car_name = div.find('div', class_='col-md-9').find('a', class_='generic-gray').text.strip()\n",
        "            meta_info = div.find('div', class_='col-md-9').find('p', class_='date').text.strip()\n",
        "            try:\n",
        "                familiarity = div.find('div', class_='col-md-9').find('div', class_='familiarity').text.strip()\n",
        "            except:\n",
        "                familiarity = ''\n",
        "            try:\n",
        "                review_body = loads(div.find('script').text)['reviewBody'].strip()\n",
        "            except:\n",
        "                review_body = ''\n",
        "            try:\n",
        "                overall_rating = loads(div.find('script').text)['reviewRating']['ratingValue']\n",
        "            except:\n",
        "                overall_rating = float('nan')\n",
        "            all_ratings = div.find('ul', class_=re.compile(r'review-rating list-unstyled clearfix')).find_all('li')\n",
        "            style = all_ratings[0].find('img').get('alt').strip()\n",
        "            comfort = all_ratings[1].find('img').get('alt').strip()\n",
        "            fuel_economy = all_ratings[2].find('img').get('alt').strip()\n",
        "            perfomance = all_ratings[3].find('img').get('alt').strip()\n",
        "            value_for_money = all_ratings[4].find('img').get('alt').strip()\n",
        "            helpfulness = div.find('div', class_='col-md-6').find_all('div')[-1].text.strip()\n",
        "            review_obj = {\n",
        "                'car_model': car_name,\n",
        "                'review_title': review_tagline,\n",
        "                'reviewer_info': meta_info,\n",
        "                'familiarity': familiarity,\n",
        "                'review_text' : review_body,\n",
        "                'style': style,\n",
        "                'comfort_rating': comfort,\n",
        "                'fuel_economy': fuel_economy,\n",
        "                'perfomance': perfomance,\n",
        "                'value_for_money': value_for_money,\n",
        "                'overall_rating': overall_rating,\n",
        "                'helpful_votes': helpfulness\n",
        "            }\n",
        "            all_reviews.append(review_obj)\n",
        "        start += 1\n",
        "\n",
        "    return all_reviews"
      ]
    },
    {
      "cell_type": "markdown",
      "metadata": {},
      "source": [
        "Utility Functions"
      ]
    },
    {
      "cell_type": "code",
      "execution_count": 7,
      "metadata": {
        "id": "O06W8HbvoeXn"
      },
      "outputs": [],
      "source": [
        "def create_directories(make, models):\n",
        "    for model in models:\n",
        "        dir = os.path.join('reviews', make, model)\n",
        "        if not os.path.exists(dir):\n",
        "            os.makedirs(dir)"
      ]
    },
    {
      "cell_type": "code",
      "execution_count": null,
      "metadata": {},
      "outputs": [],
      "source": [
        "def format_string(input):\n",
        "    return input.replace(' ', '-').lower()"
      ]
    },
    {
      "cell_type": "markdown",
      "metadata": {},
      "source": [
        "## Loading Make-Model List and Creating Directories\n",
        "\n",
        "We will load a list of car makes and models from a JSON file and create directories for each make and its corresponding models."
      ]
    },
    {
      "cell_type": "code",
      "execution_count": 8,
      "metadata": {
        "id": "EKEWclKWoeXo"
      },
      "outputs": [],
      "source": [
        "with open('json/make_model_list.json', 'r') as f:\n",
        "    make_models_list = loads(f.read())\n",
        "\n",
        "for idx in range(len(make_models_list)):\n",
        "    create_directories(make_models_list[idx]['make'], make_models_list[idx]['models'])"
      ]
    },
    {
      "cell_type": "code",
      "execution_count": 12,
      "metadata": {
        "colab": {
          "base_uri": "https://localhost:8080/"
        },
        "id": "BPQmWTbX-FMR",
        "outputId": "cf38089e-9c5c-4ea4-d9c6-28a6b820cf76"
      },
      "outputs": [
        {
          "name": "stderr",
          "output_type": "stream",
          "text": [
            "Processing Volkswagen: 100%|██████████| 7/7 [00:48<00:00,  6.99s/it]\n",
            "Processing Porsche: 100%|██████████| 8/8 [00:55<00:00,  6.96s/it]\n",
            "Processing Hino: 100%|██████████| 1/1 [00:07<00:00,  7.28s/it]\n",
            "Processing Bugatti: 100%|██████████| 2/2 [00:13<00:00,  6.58s/it]\n",
            "Processing Power: 100%|██████████| 1/1 [00:06<00:00,  6.80s/it]\n",
            "Processing United: 100%|██████████| 2/2 [00:14<00:00,  7.30s/it]\n",
            "Processing Mitsubishi:  50%|█████     | 12/24 [01:19<00:59,  4.94s/it]"
          ]
        },
        {
          "name": "stdout",
          "output_type": "stream",
          "text": [
            "Mitsubishi Minicab\n"
          ]
        },
        {
          "name": "stderr",
          "output_type": "stream",
          "text": [
            "Processing Mitsubishi:  88%|████████▊ | 21/24 [02:21<00:16,  5.36s/it]"
          ]
        },
        {
          "name": "stdout",
          "output_type": "stream",
          "text": [
            "Mitsubishi Lancer Evolution X\n"
          ]
        },
        {
          "name": "stderr",
          "output_type": "stream",
          "text": [
            "Processing Mitsubishi: 100%|██████████| 24/24 [02:42<00:00,  6.78s/it]\n",
            "Processing Hummer: 100%|██████████| 3/3 [00:20<00:00,  6.93s/it]\n",
            "Processing Renault: 100%|██████████| 1/1 [00:06<00:00,  6.75s/it]\n",
            "Processing GMC: 100%|██████████| 2/2 [00:13<00:00,  6.70s/it]\n",
            "Processing Ford:  83%|████████▎ | 10/12 [01:03<00:10,  5.12s/it]"
          ]
        },
        {
          "name": "stdout",
          "output_type": "stream",
          "text": [
            "Ford F 150\n"
          ]
        },
        {
          "name": "stderr",
          "output_type": "stream",
          "text": [
            "Processing Ford: 100%|██████████| 12/12 [01:16<00:00,  6.36s/it]\n",
            "Processing Tank: 100%|██████████| 1/1 [00:06<00:00,  6.99s/it]\n",
            "Processing Pontiac: 100%|██████████| 1/1 [00:06<00:00,  6.80s/it]\n",
            "Processing Mercedes Benz:   3%|▎         | 1/29 [00:00<00:21,  1.31it/s]"
          ]
        },
        {
          "name": "stdout",
          "output_type": "stream",
          "text": [
            "Mercedes Benz GLA Class\n"
          ]
        },
        {
          "name": "stderr",
          "output_type": "stream",
          "text": [
            "Processing Mercedes Benz:  48%|████▊     | 14/29 [01:29<01:20,  5.34s/it]"
          ]
        },
        {
          "name": "stdout",
          "output_type": "stream",
          "text": [
            "Mercedes Benz CLS Class\n"
          ]
        },
        {
          "name": "stderr",
          "output_type": "stream",
          "text": [
            "Processing Mercedes Benz:  97%|█████████▋| 28/29 [03:05<00:05,  5.41s/it]"
          ]
        },
        {
          "name": "stdout",
          "output_type": "stream",
          "text": [
            "Mercedes Benz SLK Class\n"
          ]
        },
        {
          "name": "stderr",
          "output_type": "stream",
          "text": [
            "Processing Mercedes Benz: 100%|██████████| 29/29 [03:07<00:00,  6.46s/it]\n"
          ]
        },
        {
          "name": "stdout",
          "output_type": "stream",
          "text": [
            "Mercedes Benz Brabus\n"
          ]
        },
        {
          "name": "stderr",
          "output_type": "stream",
          "text": [
            "Processing Changan:  81%|████████▏ | 13/16 [01:38<00:17,  5.80s/it]"
          ]
        },
        {
          "name": "stdout",
          "output_type": "stream",
          "text": [
            "Changan Kaghan XL\n"
          ]
        },
        {
          "name": "stderr",
          "output_type": "stream",
          "text": [
            "Processing Changan: 100%|██████████| 16/16 [02:01<00:00,  7.60s/it]\n"
          ]
        }
      ],
      "source": [
        "for make in os.listdir('reviews'):\n",
        "    for model in tqdm(os.listdir(os.path.join('reviews', make)), desc=f'Processing {make}'):\n",
        "        try:\n",
        "            reviews = get_car_reviews(format_string(make), format_string(model))\n",
        "            if len(reviews):\n",
        "                with open(os.path.join('reviews', make, model, 'reviews_list.json'), 'w') as f:\n",
        "                    f.write(dumps(reviews))\n",
        "            sleep(5)\n",
        "        except:\n",
        "            print(make, model)\n",
        "            continue"
      ]
    },
    {
      "cell_type": "markdown",
      "metadata": {},
      "source": [
        "**A sample from user reviews data**"
      ]
    },
    {
      "cell_type": "code",
      "execution_count": 7,
      "metadata": {},
      "outputs": [
        {
          "data": {
            "text/html": [
              "<div>\n",
              "<style scoped>\n",
              "    .dataframe tbody tr th:only-of-type {\n",
              "        vertical-align: middle;\n",
              "    }\n",
              "\n",
              "    .dataframe tbody tr th {\n",
              "        vertical-align: top;\n",
              "    }\n",
              "\n",
              "    .dataframe thead th {\n",
              "        text-align: right;\n",
              "    }\n",
              "</style>\n",
              "<table border=\"1\" class=\"dataframe\">\n",
              "  <thead>\n",
              "    <tr style=\"text-align: right;\">\n",
              "      <th></th>\n",
              "      <th>make</th>\n",
              "      <th>model</th>\n",
              "      <th>car_model</th>\n",
              "      <th>review_title</th>\n",
              "      <th>reviewer_info</th>\n",
              "      <th>familiarity</th>\n",
              "      <th>review_text</th>\n",
              "      <th>style</th>\n",
              "      <th>comfort_rating</th>\n",
              "      <th>fuel_economy</th>\n",
              "      <th>perfomance</th>\n",
              "      <th>value_for_money</th>\n",
              "      <th>overall_rating</th>\n",
              "      <th>helpful_votes</th>\n",
              "    </tr>\n",
              "  </thead>\n",
              "  <tbody>\n",
              "    <tr>\n",
              "      <th>2544</th>\n",
              "      <td>Hyundai</td>\n",
              "      <td>Elantra</td>\n",
              "      <td>2022 Hyundai Elantra GLS</td>\n",
              "      <td>best available sedan against civic n grande</td>\n",
              "      <td>Posted by PWUser164991172740 on Mar 26, 2023</td>\n",
              "      <td>Familiarity: I owned this car.</td>\n",
              "      <td>beautiful stylish\\ngave me average as high as ...</td>\n",
              "      <td>5 rating</td>\n",
              "      <td>5 rating</td>\n",
              "      <td>5 rating</td>\n",
              "      <td>5 rating</td>\n",
              "      <td>5 rating</td>\n",
              "      <td>5.0</td>\n",
              "      <td>(0 out of 0 people found this review helpful)</td>\n",
              "    </tr>\n",
              "    <tr>\n",
              "      <th>569</th>\n",
              "      <td>Prince</td>\n",
              "      <td>Pearl</td>\n",
              "      <td>2022 Prince Pearl MT</td>\n",
              "      <td>Affordable Car of Current Time</td>\n",
              "      <td>Posted by BILLS on Jul 29, 2023</td>\n",
              "      <td>Familiarity: I owned this car.</td>\n",
              "      <td>I am using this car for more than a year. This...</td>\n",
              "      <td>5 rating</td>\n",
              "      <td>5 rating</td>\n",
              "      <td>3 rating</td>\n",
              "      <td>4 rating</td>\n",
              "      <td>5 rating</td>\n",
              "      <td>4.0</td>\n",
              "      <td>(1 out of 1 person found this review helpful)</td>\n",
              "    </tr>\n",
              "    <tr>\n",
              "      <th>1666</th>\n",
              "      <td>Suzuki</td>\n",
              "      <td>Cultus</td>\n",
              "      <td>Suzuki Cultus VXRi (CNG)</td>\n",
              "      <td>Moderate</td>\n",
              "      <td>Posted by Asfand Sadiq on Jan 30, 2012</td>\n",
              "      <td>NaN</td>\n",
              "      <td>Well cultus is an extremly reliable car. \\r\\nA...</td>\n",
              "      <td>4 rating</td>\n",
              "      <td>3 rating</td>\n",
              "      <td>2 rating</td>\n",
              "      <td>1 rating</td>\n",
              "      <td>5 rating</td>\n",
              "      <td>3.0</td>\n",
              "      <td>(1 out of 3 people found this review helpful)</td>\n",
              "    </tr>\n",
              "    <tr>\n",
              "      <th>4595</th>\n",
              "      <td>Toyota</td>\n",
              "      <td>Corolla</td>\n",
              "      <td>Toyota Corolla GLi 1.3 VVTi</td>\n",
              "      <td>Corolla v.s City</td>\n",
              "      <td>Posted by qwerty2 on May 27, 2011</td>\n",
              "      <td>NaN</td>\n",
              "      <td>I had a city and a corolla i just sold of coro...</td>\n",
              "      <td>3 rating</td>\n",
              "      <td>1 rating</td>\n",
              "      <td>3 rating</td>\n",
              "      <td>4 rating</td>\n",
              "      <td>3 rating</td>\n",
              "      <td>3.0</td>\n",
              "      <td>(6 out of 14 people found this review helpful)</td>\n",
              "    </tr>\n",
              "    <tr>\n",
              "      <th>2232</th>\n",
              "      <td>Honda</td>\n",
              "      <td>City</td>\n",
              "      <td>2022 Honda City 1.2L CVT</td>\n",
              "      <td>Great Value</td>\n",
              "      <td>Posted by Shan on Jun 03, 2022</td>\n",
              "      <td>Familiarity: I owned this car.</td>\n",
              "      <td>Stylish Exterior, Sporty Look\\nDRLs look great...</td>\n",
              "      <td>5 rating</td>\n",
              "      <td>4 rating</td>\n",
              "      <td>4 rating</td>\n",
              "      <td>4 rating</td>\n",
              "      <td>5 rating</td>\n",
              "      <td>4.0</td>\n",
              "      <td>(0 out of 1 person found this review helpful)</td>\n",
              "    </tr>\n",
              "  </tbody>\n",
              "</table>\n",
              "</div>"
            ],
            "text/plain": [
              "         make    model                    car_model   \n",
              "2544  Hyundai  Elantra     2022 Hyundai Elantra GLS  \\\n",
              "569    Prince    Pearl         2022 Prince Pearl MT   \n",
              "1666   Suzuki   Cultus     Suzuki Cultus VXRi (CNG)   \n",
              "4595   Toyota  Corolla  Toyota Corolla GLi 1.3 VVTi   \n",
              "2232    Honda     City     2022 Honda City 1.2L CVT   \n",
              "\n",
              "                                     review_title   \n",
              "2544  best available sedan against civic n grande  \\\n",
              "569                Affordable Car of Current Time   \n",
              "1666                                     Moderate   \n",
              "4595                             Corolla v.s City   \n",
              "2232                                  Great Value   \n",
              "\n",
              "                                     reviewer_info   \n",
              "2544  Posted by PWUser164991172740 on Mar 26, 2023  \\\n",
              "569                Posted by BILLS on Jul 29, 2023   \n",
              "1666        Posted by Asfand Sadiq on Jan 30, 2012   \n",
              "4595             Posted by qwerty2 on May 27, 2011   \n",
              "2232                Posted by Shan on Jun 03, 2022   \n",
              "\n",
              "                         familiarity   \n",
              "2544  Familiarity: I owned this car.  \\\n",
              "569   Familiarity: I owned this car.   \n",
              "1666                             NaN   \n",
              "4595                             NaN   \n",
              "2232  Familiarity: I owned this car.   \n",
              "\n",
              "                                            review_text     style   \n",
              "2544  beautiful stylish\\ngave me average as high as ...  5 rating  \\\n",
              "569   I am using this car for more than a year. This...  5 rating   \n",
              "1666  Well cultus is an extremly reliable car. \\r\\nA...  4 rating   \n",
              "4595  I had a city and a corolla i just sold of coro...  3 rating   \n",
              "2232  Stylish Exterior, Sporty Look\\nDRLs look great...  5 rating   \n",
              "\n",
              "     comfort_rating fuel_economy perfomance value_for_money  overall_rating   \n",
              "2544       5 rating     5 rating   5 rating        5 rating             5.0  \\\n",
              "569        5 rating     3 rating   4 rating        5 rating             4.0   \n",
              "1666       3 rating     2 rating   1 rating        5 rating             3.0   \n",
              "4595       1 rating     3 rating   4 rating        3 rating             3.0   \n",
              "2232       4 rating     4 rating   4 rating        5 rating             4.0   \n",
              "\n",
              "                                       helpful_votes  \n",
              "2544   (0 out of 0 people found this review helpful)  \n",
              "569    (1 out of 1 person found this review helpful)  \n",
              "1666   (1 out of 3 people found this review helpful)  \n",
              "4595  (6 out of 14 people found this review helpful)  \n",
              "2232   (0 out of 1 person found this review helpful)  "
            ]
          },
          "execution_count": 7,
          "metadata": {},
          "output_type": "execute_result"
        }
      ],
      "source": [
        "df = pd.read_csv('datasets/dataset_2.csv')\n",
        "df.sample(5)"
      ]
    }
  ],
  "metadata": {
    "colab": {
      "provenance": []
    },
    "kernelspec": {
      "display_name": "Python 3",
      "language": "python",
      "name": "python3"
    },
    "language_info": {
      "codemirror_mode": {
        "name": "ipython",
        "version": 3
      },
      "file_extension": ".py",
      "mimetype": "text/x-python",
      "name": "python",
      "nbconvert_exporter": "python",
      "pygments_lexer": "ipython3",
      "version": "3.10.5"
    }
  },
  "nbformat": 4,
  "nbformat_minor": 0
}
